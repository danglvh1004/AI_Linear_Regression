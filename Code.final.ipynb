{
 "cells": [
  {
   "cell_type": "markdown",
   "metadata": {},
   "source": [
    "# CODED BY HAI DANG LE VU\n",
    "# INPUT\n",
    "+ ENGINESIZE\n",
    "+ CYLINDERS\n",
    "+ FUELCONSUMPTION_CITY \n",
    "+ FUELCONSUMPTION_HWY\n",
    "+ FUELCONSUMPTION_COMB\n",
    "+ FUELCONSUMPTION_COMB_MPG"
   ]
  },
  {
   "cell_type": "markdown",
   "metadata": {},
   "source": [
    "# OUTPUT: CO2EMISSIONS"
   ]
  },
  {
   "cell_type": "code",
   "execution_count": 34,
   "metadata": {},
   "outputs": [],
   "source": [
    "import pandas as pd\n",
    "import tkinter as tk \n",
    "import matplotlib.pyplot as plt\n",
    "from matplotlib.backends.backend_tkagg import FigureCanvasTkAgg\n",
    "from sklearn.metrics import r2_score\n",
    "import numpy as np\n",
    "import statsmodels.api as sm"
   ]
  },
  {
   "cell_type": "code",
   "execution_count": 35,
   "metadata": {
    "scrolled": true
   },
   "outputs": [
    {
     "data": {
      "text/html": [
       "<div>\n",
       "<style scoped>\n",
       "    .dataframe tbody tr th:only-of-type {\n",
       "        vertical-align: middle;\n",
       "    }\n",
       "\n",
       "    .dataframe tbody tr th {\n",
       "        vertical-align: top;\n",
       "    }\n",
       "\n",
       "    .dataframe thead th {\n",
       "        text-align: right;\n",
       "    }\n",
       "</style>\n",
       "<table border=\"1\" class=\"dataframe\">\n",
       "  <thead>\n",
       "    <tr style=\"text-align: right;\">\n",
       "      <th></th>\n",
       "      <th>MODELYEAR</th>\n",
       "      <th>MAKE</th>\n",
       "      <th>MODEL</th>\n",
       "      <th>VEHICLECLASS</th>\n",
       "      <th>ENGINESIZE</th>\n",
       "      <th>CYLINDERS</th>\n",
       "      <th>TRANSMISSION</th>\n",
       "      <th>FUELTYPE</th>\n",
       "      <th>FUELCONSUMPTION_CITY</th>\n",
       "      <th>FUELCONSUMPTION_HWY</th>\n",
       "      <th>FUELCONSUMPTION_COMB</th>\n",
       "      <th>FUELCONSUMPTION_COMB_MPG</th>\n",
       "      <th>CO2EMISSIONS</th>\n",
       "    </tr>\n",
       "  </thead>\n",
       "  <tbody>\n",
       "    <tr>\n",
       "      <th>0</th>\n",
       "      <td>2014</td>\n",
       "      <td>ACURA</td>\n",
       "      <td>ILX</td>\n",
       "      <td>COMPACT</td>\n",
       "      <td>2.0</td>\n",
       "      <td>4</td>\n",
       "      <td>AS5</td>\n",
       "      <td>Z</td>\n",
       "      <td>9.9</td>\n",
       "      <td>6.7</td>\n",
       "      <td>8.5</td>\n",
       "      <td>33</td>\n",
       "      <td>196</td>\n",
       "    </tr>\n",
       "    <tr>\n",
       "      <th>1</th>\n",
       "      <td>2014</td>\n",
       "      <td>ACURA</td>\n",
       "      <td>ILX</td>\n",
       "      <td>COMPACT</td>\n",
       "      <td>2.4</td>\n",
       "      <td>4</td>\n",
       "      <td>M6</td>\n",
       "      <td>Z</td>\n",
       "      <td>11.2</td>\n",
       "      <td>7.7</td>\n",
       "      <td>9.6</td>\n",
       "      <td>29</td>\n",
       "      <td>221</td>\n",
       "    </tr>\n",
       "    <tr>\n",
       "      <th>2</th>\n",
       "      <td>2014</td>\n",
       "      <td>ACURA</td>\n",
       "      <td>ILX HYBRID</td>\n",
       "      <td>COMPACT</td>\n",
       "      <td>1.5</td>\n",
       "      <td>4</td>\n",
       "      <td>AV7</td>\n",
       "      <td>Z</td>\n",
       "      <td>6.0</td>\n",
       "      <td>5.8</td>\n",
       "      <td>5.9</td>\n",
       "      <td>48</td>\n",
       "      <td>136</td>\n",
       "    </tr>\n",
       "    <tr>\n",
       "      <th>3</th>\n",
       "      <td>2014</td>\n",
       "      <td>ACURA</td>\n",
       "      <td>MDX 4WD</td>\n",
       "      <td>SUV - SMALL</td>\n",
       "      <td>3.5</td>\n",
       "      <td>6</td>\n",
       "      <td>AS6</td>\n",
       "      <td>Z</td>\n",
       "      <td>12.7</td>\n",
       "      <td>9.1</td>\n",
       "      <td>11.1</td>\n",
       "      <td>25</td>\n",
       "      <td>255</td>\n",
       "    </tr>\n",
       "    <tr>\n",
       "      <th>4</th>\n",
       "      <td>2014</td>\n",
       "      <td>ACURA</td>\n",
       "      <td>RDX AWD</td>\n",
       "      <td>SUV - SMALL</td>\n",
       "      <td>3.5</td>\n",
       "      <td>6</td>\n",
       "      <td>AS6</td>\n",
       "      <td>Z</td>\n",
       "      <td>12.1</td>\n",
       "      <td>8.7</td>\n",
       "      <td>10.6</td>\n",
       "      <td>27</td>\n",
       "      <td>244</td>\n",
       "    </tr>\n",
       "  </tbody>\n",
       "</table>\n",
       "</div>"
      ],
      "text/plain": [
       "   MODELYEAR   MAKE       MODEL VEHICLECLASS  ENGINESIZE  CYLINDERS  \\\n",
       "0       2014  ACURA         ILX      COMPACT         2.0          4   \n",
       "1       2014  ACURA         ILX      COMPACT         2.4          4   \n",
       "2       2014  ACURA  ILX HYBRID      COMPACT         1.5          4   \n",
       "3       2014  ACURA     MDX 4WD  SUV - SMALL         3.5          6   \n",
       "4       2014  ACURA     RDX AWD  SUV - SMALL         3.5          6   \n",
       "\n",
       "  TRANSMISSION FUELTYPE  FUELCONSUMPTION_CITY  FUELCONSUMPTION_HWY  \\\n",
       "0          AS5        Z                   9.9                  6.7   \n",
       "1           M6        Z                  11.2                  7.7   \n",
       "2          AV7        Z                   6.0                  5.8   \n",
       "3          AS6        Z                  12.7                  9.1   \n",
       "4          AS6        Z                  12.1                  8.7   \n",
       "\n",
       "   FUELCONSUMPTION_COMB  FUELCONSUMPTION_COMB_MPG  CO2EMISSIONS  \n",
       "0                   8.5                        33           196  \n",
       "1                   9.6                        29           221  \n",
       "2                   5.9                        48           136  \n",
       "3                  11.1                        25           255  \n",
       "4                  10.6                        27           244  "
      ]
     },
     "execution_count": 35,
     "metadata": {},
     "output_type": "execute_result"
    }
   ],
   "source": [
    "data = pd.read_csv(\"FuelConsumptionCo2.csv\")\n",
    "data.head()"
   ]
  },
  {
   "cell_type": "code",
   "execution_count": 36,
   "metadata": {},
   "outputs": [],
   "source": [
    "#Input data to training and test\n",
    "train = data[:(int((len(data)*0.8)))]\n",
    "test = data[(int((len(data)*0.8))):]"
   ]
  },
  {
   "cell_type": "code",
   "execution_count": 37,
   "metadata": {},
   "outputs": [],
   "source": [
    "#Input\n",
    "X = train[[ 'ENGINESIZE', 'CYLINDERS', 'FUELCONSUMPTION_CITY','FUELCONSUMPTION_HWY', \n",
    " 'FUELCONSUMPTION_COMB','FUELCONSUMPTION_COMB_MPG']]\n",
    "#Output\n",
    "Y = train[\"CO2EMISSIONS\"]"
   ]
  },
  {
   "cell_type": "code",
   "execution_count": 38,
   "metadata": {
    "scrolled": true
   },
   "outputs": [
    {
     "name": "stdout",
     "output_type": "stream",
     "text": [
      "Intercept: \n",
      " 262.7180273148233\n",
      "Coefficients: \n",
      " [ 7.87314682  8.40890752 -3.36832484  2.74249821  3.85125094 -4.08291296]\n"
     ]
    }
   ],
   "source": [
    "# with sklearn\n",
    "from sklearn import linear_model\n",
    "regr = linear_model.LinearRegression()\n",
    "regr.fit(X, Y)\n",
    "\n",
    "print('Intercept: \\n', regr.intercept_)\n",
    "print('Coefficients: \\n', regr.coef_)"
   ]
  },
  {
   "cell_type": "code",
   "execution_count": 39,
   "metadata": {},
   "outputs": [
    {
     "name": "stdout",
     "output_type": "stream",
     "text": [
      "R² : 0.9362912548588905\n"
     ]
    }
   ],
   "source": [
    "test_x = np.array(test[[ 'ENGINESIZE', 'CYLINDERS', 'FUELCONSUMPTION_CITY',\n",
    " 'FUELCONSUMPTION_HWY', 'FUELCONSUMPTION_COMB','FUELCONSUMPTION_COMB_MPG']])\n",
    "test_y = np.array(test[\"CO2EMISSIONS\"])\n",
    "Y_pred = regr.predict(test_x)\n",
    "R = r2_score(test_y , Y_pred)\n",
    "print (\"R² :\",R)"
   ]
  },
  {
   "cell_type": "code",
   "execution_count": 40,
   "metadata": {},
   "outputs": [
    {
     "name": "stdout",
     "output_type": "stream",
     "text": [
      "                            OLS Regression Results                            \n",
      "==============================================================================\n",
      "Dep. Variable:           CO2EMISSIONS   R-squared:                       0.878\n",
      "Model:                            OLS   Adj. R-squared:                  0.877\n",
      "Method:                 Least Squares   F-statistic:                     1011.\n",
      "Date:                Fri, 13 Nov 2020   Prob (F-statistic):               0.00\n",
      "Time:                        10:42:16   Log-Likelihood:                -3861.9\n",
      "No. Observations:                 853   AIC:                             7738.\n",
      "Df Residuals:                     846   BIC:                             7771.\n",
      "Df Model:                           6                                         \n",
      "Covariance Type:            nonrobust                                         \n",
      "============================================================================================\n",
      "                               coef    std err          t      P>|t|      [0.025      0.975]\n",
      "--------------------------------------------------------------------------------------------\n",
      "const                      262.7180     15.937     16.484      0.000     231.436     294.000\n",
      "ENGINESIZE                   7.8731      1.638      4.807      0.000       4.658      11.088\n",
      "CYLINDERS                    8.4089      1.234      6.813      0.000       5.986      10.831\n",
      "FUELCONSUMPTION_CITY        -3.3683     14.789     -0.228      0.820     -32.396      25.660\n",
      "FUELCONSUMPTION_HWY          2.7425     12.193      0.225      0.822     -21.190      26.675\n",
      "FUELCONSUMPTION_COMB         3.8513     26.891      0.143      0.886     -48.930      56.633\n",
      "FUELCONSUMPTION_COMB_MPG    -4.0829      0.324    -12.607      0.000      -4.719      -3.447\n",
      "==============================================================================\n",
      "Omnibus:                       55.407   Durbin-Watson:                   1.658\n",
      "Prob(Omnibus):                  0.000   Jarque-Bera (JB):              229.627\n",
      "Skew:                          -0.000   Prob(JB):                     1.37e-50\n",
      "Kurtosis:                       5.542   Cond. No.                     1.45e+03\n",
      "==============================================================================\n",
      "\n",
      "Warnings:\n",
      "[1] Standard Errors assume that the covariance matrix of the errors is correctly specified.\n",
      "[2] The condition number is large, 1.45e+03. This might indicate that there are\n",
      "strong multicollinearity or other numerical problems.\n"
     ]
    }
   ],
   "source": [
    "# with statsmodels\n",
    "X = sm.add_constant(X) # adding a constant\n",
    " \n",
    "model = sm.OLS(Y, X).fit()\n",
    "predictions = model.predict(X) \n",
    " \n",
    "print_model = model.summary()\n",
    "print(print_model)"
   ]
  },
  {
   "cell_type": "code",
   "execution_count": 41,
   "metadata": {},
   "outputs": [
    {
     "name": "stdout",
     "output_type": "stream",
     "text": [
      "CO2EMISSIONS: \n",
      " [206.40273107]\n"
     ]
    }
   ],
   "source": [
    "# prediction with sklearn\n",
    "ENGINESIZE = 2\n",
    "CYLINDERS = 4\n",
    "FUELCONSUMPTION_CITY = 10.2\n",
    "FUELCONSUMPTION_HWY = 7.5\n",
    "FUELCONSUMPTION_COMB = 9\n",
    "FUELCONSUMPTION_COMB_MPG = 31\n",
    "print ('CO2EMISSIONS: \\n', regr.predict([[ENGINESIZE ,CYLINDERS, FUELCONSUMPTION_CITY, FUELCONSUMPTION_HWY, FUELCONSUMPTION_COMB, FUELCONSUMPTION_COMB_MPG]]))"
   ]
  },
  {
   "cell_type": "code",
   "execution_count": 32,
   "metadata": {},
   "outputs": [],
   "source": [
    "# tkinter GUI\n",
    "root= tk.Tk()\n",
    "\n",
    "canvas1 = tk.Canvas(root, width = 1000, height = 800)\n",
    "canvas1.pack()\n",
    "\n",
    "# with sklearn\n",
    "Intercept_result = ('Intercept: ', regr.intercept_)\n",
    "label_Intercept = tk.Label(root, text=Intercept_result, justify = 'center')\n",
    "canvas1.create_window(260, 230, window=label_Intercept)\n",
    "\n",
    "# with sklearn\n",
    "Coefficients_result  = ('Coefficients: ', regr.coef_)\n",
    "label_Coefficients = tk.Label(root, text=Coefficients_result, justify = 'center')\n",
    "canvas1.create_window(260, 270, window=label_Coefficients)\n",
    "\n",
    "# ENGINESIZE label and input box\n",
    "label1 = tk.Label(root, text=' ENGINESIZE: ')\n",
    "canvas1.create_window(100, 100, window=label1)\n",
    "\n",
    "entry1 = tk.Entry (root) # create 1st entry box\n",
    "canvas1.create_window(270, 100, window=entry1)\n",
    "\n",
    "# CYLINDERS label and input box\n",
    "label2 = tk.Label(root, text=' CYLINDERS: ')\n",
    "canvas1.create_window(100, 120, window=label2)\n",
    "\n",
    "entry2 = tk.Entry (root) # create 2nd entry box\n",
    "canvas1.create_window(270, 120, window=entry2)\n",
    "\n",
    "\n",
    "# FUELCONSUMPTION_CITY label and input box\n",
    "label3 = tk.Label(root, text=' FUELCONSUMPTION_CITY: ')\n",
    "canvas1.create_window(100, 140, window=label3)\n",
    "\n",
    "entry3 = tk.Entry (root) # create 3rd entry box\n",
    "canvas1.create_window(270, 140, window=entry3)\n",
    "\n",
    "# FUELCONSUMPTION_HWY label and input box\n",
    "label4 = tk.Label(root, text=' FUELCONSUMPTION_HWY: ')\n",
    "canvas1.create_window(100, 160, window=label4)\n",
    "\n",
    "entry4 = tk.Entry (root) # create 4th entry box\n",
    "canvas1.create_window(270, 160, window=entry4)\n",
    "\n",
    "# FUELCONSUMPTION_COMB label and input box\n",
    "label5 = tk.Label(root, text=' FUELCONSUMPTION_COMB: ')\n",
    "canvas1.create_window(100, 180, window=label5)\n",
    "\n",
    "entry5 = tk.Entry (root) # create 5th entry box\n",
    "canvas1.create_window(270, 180, window=entry5)\n",
    "\n",
    "# FUELCONSUMPTION_COMB_MPG label and input box\n",
    "label6 = tk.Label(root, text=' FUELCONSUMPTION_COMB_MPG: ')\n",
    "canvas1.create_window(100, 200, window=label6)\n",
    "\n",
    "entry6 = tk.Entry (root) # create 5th entry box\n",
    "canvas1.create_window(270, 200, window=entry6)\n",
    "\n",
    "def values(): \n",
    "    global ENGINESIZE #our 1st input variable\n",
    "    ENGINESIZE = float(entry1.get()) \n",
    "    \n",
    "    global CYLINDERS #our 2nd input variable\n",
    "    CYLINDERS = float(entry2.get()) \n",
    "    \n",
    "    global FUELCONSUMPTION_CITY #our 3rd input variable\n",
    "    FUELCONSUMPTION_CITY = float(entry3.get()) \n",
    "    \n",
    "    global FUELCONSUMPTION_HWY #our 4th input variable\n",
    "    FUELCONSUMPTION_HWY = float(entry4.get()) \n",
    "    \n",
    "    global FUELCONSUMPTION_COMB #our 5th input variable\n",
    "    FUELCONSUMPTION_COMB = float(entry5.get()) \n",
    "    \n",
    "    global FUELCONSUMPTION_COMB_MPG #our 6th input variable\n",
    "    FUELCONSUMPTION_COMB_MPG = float(entry6.get()) \n",
    "    \n",
    "    Prediction_result  = ('Kết quả mô hình hồi quy tuyến tính: ', regr.predict([[ENGINESIZE ,CYLINDERS, FUELCONSUMPTION_CITY, FUELCONSUMPTION_HWY, FUELCONSUMPTION_COMB, FUELCONSUMPTION_COMB_MPG]]))\n",
    "    label_Prediction = tk.Label(root, text= Prediction_result, bg='orange')\n",
    "    canvas1.create_window(260, 340, window=label_Prediction)\n",
    "    \n",
    "button1 = tk.Button (root, text='Lượng tiêu thụ CO2 ',command=values, bg='orange') # button to call the 'values' command above \n",
    "canvas1.create_window(270, 300, window=button1)\n",
    "root.mainloop()"
   ]
  }
 ],
 "metadata": {
  "kernelspec": {
   "display_name": "Python 3",
   "language": "python",
   "name": "python3"
  },
  "language_info": {
   "codemirror_mode": {
    "name": "ipython",
    "version": 3
   },
   "file_extension": ".py",
   "mimetype": "text/x-python",
   "name": "python",
   "nbconvert_exporter": "python",
   "pygments_lexer": "ipython3",
   "version": "3.8.3"
  }
 },
 "nbformat": 4,
 "nbformat_minor": 4
}
